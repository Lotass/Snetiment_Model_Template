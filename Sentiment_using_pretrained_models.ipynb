{
 "cells": [
  {
   "cell_type": "code",
   "execution_count": 185,
   "metadata": {
    "collapsed": true
   },
   "outputs": [],
   "source": [
    "import numpy as np\n",
    "import pandas as pd\n",
    "import gensim\n",
    "from tqdm import tqdm\n",
    "from BeautifulSoup import BeautifulSoup\n",
    "import gc\n",
    "import scipy\n",
    "\n",
    "# Models For Experimentation\n",
    "from sklearn.linear_model import LogisticRegression, SGDClassifier\n",
    "from sklearn.svm import SVC, LinearSVC, LinearSVR\n",
    "from sklearn.naive_bayes import MultinomialNB, GaussianNB\n",
    "import lightgbm as lgb \n",
    "import xgboost as xgb\n",
    "\n",
    "# For Model Assessment\n",
    "from sklearn.metrics import classification_report, accuracy_score, auc\n",
    "\n",
    "# Data Split\n",
    "from sklearn.model_selection import train_test_split, GridSearchCV, RandomizedSearchCV\n",
    "\n",
    "# List of English StopWords\n",
    "from nltk.corpus import stopwords\n",
    "stopwords = list(set(stopwords.words('english')))"
   ]
  },
  {
   "cell_type": "code",
   "execution_count": 186,
   "metadata": {},
   "outputs": [],
   "source": [
    "dtypes = {\n",
    "    'review'      : np.unicode ,\n",
    "    'cleaned_review': np.unicode ,\n",
    "    'tokens': np.unicode ,\n",
    "    'sentiment' : np.int16\n",
    "}\n",
    "data_snt = pd.read_csv(\"cleaned_data/cleaned_training_reviews.csv\", usecols=['review','sentiment','cleaned_review','tokens'],\n",
    "                                                    encoding=\"utf-8\", dtype=dtypes)\n",
    "data_snt = data_snt.loc[np.random.permutation(data_snt.index)]"
   ]
  },
  {
   "cell_type": "code",
   "execution_count": 187,
   "metadata": {
    "collapsed": true
   },
   "outputs": [],
   "source": [
    "train, valid, train_l, valid_l = train_test_split(data_snt['cleaned_review'],\n",
    "                                                          data_snt['sentiment'], test_size=0.2, random_state=42)"
   ]
  },
  {
   "cell_type": "code",
   "execution_count": 86,
   "metadata": {
    "collapsed": true
   },
   "outputs": [],
   "source": [
    "import re, string\n",
    "re_tok = re.compile(u'([{string.punctuation}“”¨«»®´·º½¾¿¡§£₤‘’])')\n",
    "\n",
    "def tokenize(s):\n",
    "    return re_tok.sub(r' \\1 ', s).split()\n",
    "\n",
    "from nltk.corpus import stopwords\n",
    "stop_words = set(stopwords.words('english'))"
   ]
  },
  {
   "cell_type": "markdown",
   "metadata": {},
   "source": [
    "# Try Pretrained Word2Vec Model\n",
    "\n",
    "## Let's start by Glove Model"
   ]
  },
  {
   "cell_type": "code",
   "execution_count": 28,
   "metadata": {},
   "outputs": [
    {
     "name": "stderr",
     "output_type": "stream",
     "text": [
      "2196017it [02:02, 17954.72it/s]"
     ]
    },
    {
     "name": "stdout",
     "output_type": "stream",
     "text": [
      "Found 2196016 word vectors.\n"
     ]
    },
    {
     "name": "stderr",
     "output_type": "stream",
     "text": [
      "\n"
     ]
    }
   ],
   "source": [
    "# load the GloVe vectors in a dictionary:\n",
    "embeddings_index_glove = {}\n",
    "f = open('glove.840B.300d.txt')\n",
    "for line in tqdm(f):\n",
    "    values = line.split()\n",
    "    word = values[0]\n",
    "    coefs = np.asarray(values[1:], dtype='float32')\n",
    "    embeddings_index_glove[word] = coefs\n",
    "f.close()\n",
    "\n",
    "print('Found %s word vectors.' % len(embeddings_index_glove))"
   ]
  },
  {
   "cell_type": "code",
   "execution_count": 155,
   "metadata": {
    "collapsed": true
   },
   "outputs": [],
   "source": [
    "# this function creates a normalized vector for the whole sentence\n",
    "def sent2vec(s, embeddings_index):\n",
    "    words = str(s).lower().decode('utf-8')\n",
    "    words = tokenize(words)\n",
    "    words = [w for w in words if not w in stop_words]\n",
    "    words = [w for w in words if w.isalpha()]\n",
    "    M = []\n",
    "    for w in words:\n",
    "        try:\n",
    "            M.append(embeddings_index[w])\n",
    "        except:\n",
    "            continue\n",
    "    M = np.array(M)\n",
    "    v = M.sum(axis=0)\n",
    "    if type(v) != np.ndarray:\n",
    "        return np.zeros(300)\n",
    "    return v / np.sqrt((v ** 2).sum())"
   ]
  },
  {
   "cell_type": "code",
   "execution_count": 188,
   "metadata": {},
   "outputs": [
    {
     "name": "stderr",
     "output_type": "stream",
     "text": [
      "100%|██████████| 19923/19923 [00:21<00:00, 938.13it/s]\n",
      "100%|██████████| 4981/4981 [00:04<00:00, 1170.71it/s]\n"
     ]
    }
   ],
   "source": [
    "# create sentence vectors using the above function for training and validation set\n",
    "xtrain_glove = [sent2vec(x, embeddings_index_glove) for x in tqdm(train)]\n",
    "xvalid_glove = [sent2vec(x, embeddings_index_glove) for x in tqdm(valid)]\n",
    "\n",
    "xtrain_glove = np.array(xtrain_glove)\n",
    "xvalid_glove = np.array(xvalid_glove)"
   ]
  },
  {
   "cell_type": "markdown",
   "metadata": {},
   "source": [
    "After generating the features its time to build the model"
   ]
  },
  {
   "cell_type": "code",
   "execution_count": 190,
   "metadata": {},
   "outputs": [],
   "source": [
    "log_reg = LogisticRegression(C= 1, class_weight='balanced', solver='sag', n_jobs=-1, random_state=42) \n",
    "log_reg.fit(xtrain_glove, train_l)\n",
    "y_pred_log = log_reg.predict(xvalid_glove)\n",
    "report_log = classification_report(valid_l, y_pred_log)"
   ]
  },
  {
   "cell_type": "code",
   "execution_count": 191,
   "metadata": {},
   "outputs": [
    {
     "name": "stdout",
     "output_type": "stream",
     "text": [
      "             precision    recall  f1-score   support\n",
      "\n",
      "          0       0.64      0.61      0.63      2493\n",
      "          1       0.63      0.66      0.64      2488\n",
      "\n",
      "avg / total       0.64      0.64      0.64      4981\n",
      "\n"
     ]
    }
   ],
   "source": [
    "print report_log"
   ]
  },
  {
   "cell_type": "code",
   "execution_count": 192,
   "metadata": {},
   "outputs": [],
   "source": [
    "sub_sg = SGDClassifier(alpha= 1e-05, max_iter= 10000, loss='log', penalty= 'l2', n_jobs=-1, random_state=42)\n",
    "sub_sg.fit(xtrain_glove, train_l)\n",
    "y_pred = sub_sg.predict(xvalid_glove)\n",
    "report = classification_report(valid_l, y_pred)"
   ]
  },
  {
   "cell_type": "code",
   "execution_count": 193,
   "metadata": {},
   "outputs": [
    {
     "name": "stdout",
     "output_type": "stream",
     "text": [
      "             precision    recall  f1-score   support\n",
      "\n",
      "          0       0.67      0.64      0.66      2493\n",
      "          1       0.66      0.68      0.67      2488\n",
      "\n",
      "avg / total       0.66      0.66      0.66      4981\n",
      "\n"
     ]
    }
   ],
   "source": [
    "print(report)"
   ]
  },
  {
   "cell_type": "code",
   "execution_count": 92,
   "metadata": {
    "collapsed": true
   },
   "outputs": [],
   "source": [
    "data_test = pd.read_csv(\"cleaned_data/cleaned_testing_reviews.csv\", usecols=['review','cleaned_review','tokens'],\n",
    "                                                    encoding=\"utf-8\", dtype=dtypes)"
   ]
  },
  {
   "cell_type": "code",
   "execution_count": 93,
   "metadata": {},
   "outputs": [
    {
     "name": "stderr",
     "output_type": "stream",
     "text": [
      "100%|██████████| 25000/25000 [00:19<00:00, 1284.59it/s]\n"
     ]
    }
   ],
   "source": [
    "xtest_glove = [sent2vec(x, embeddings_index_glove) for x in tqdm(data_test['cleaned_review'])]\n",
    "xtest_glove = np.array(xtest_glove)"
   ]
  },
  {
   "cell_type": "code",
   "execution_count": 94,
   "metadata": {
    "collapsed": true
   },
   "outputs": [],
   "source": [
    "predictions = sub_sg.predict(xtest_glove)"
   ]
  },
  {
   "cell_type": "code",
   "execution_count": 95,
   "metadata": {},
   "outputs": [],
   "source": [
    "subm = pd.read_csv('data/sampleSubmission.csv')    \n",
    "submid = pd.DataFrame({'id': subm[\"id\"], 'sentiment': predictions})\n",
    "submid.to_csv('submissions/sample_submission_Logsgd_glove.csv', index=False)"
   ]
  },
  {
   "cell_type": "markdown",
   "metadata": {},
   "source": [
    "    ### I got AUC curve of 0.65272 "
   ]
  },
  {
   "cell_type": "markdown",
   "metadata": {},
   "source": [
    "## Then the Google Word2Vec Model\n",
    "\n",
    "- First we 'll load the binary model of Googlenews Word2vec model then we will save the wors and its word vectors in a txt file"
   ]
  },
  {
   "cell_type": "code",
   "execution_count": 6,
   "metadata": {},
   "outputs": [],
   "source": [
    "from gensim.models.keyedvectors import KeyedVectors\n",
    "\n",
    "model = KeyedVectors.load_word2vec_format('GoogleNews-vectors-negative300.bin', binary=True)\n",
    "model.save_word2vec_format('GoogleNews-vectors-negative300.txt', binary=False)"
   ]
  },
  {
   "cell_type": "code",
   "execution_count": 37,
   "metadata": {},
   "outputs": [
    {
     "name": "stdout",
     "output_type": "stream",
     "text": [
      "Found 3000001 word vectors.\n"
     ]
    }
   ],
   "source": [
    "# load the GloVe vectors in a dictionary:\n",
    "embeddings_index_google = {}\n",
    "f = open('GoogleNews-vectors-negative300.txt')\n",
    "for line in f:\n",
    "    values = line.split()\n",
    "    word = values[0]\n",
    "    coefs = np.asarray(values[1:], dtype='float32')\n",
    "    embeddings_index_google[word] = coefs\n",
    "f.close()\n",
    "\n",
    "print('Found %s word vectors.' % len(embeddings_index_google))"
   ]
  },
  {
   "cell_type": "code",
   "execution_count": 189,
   "metadata": {},
   "outputs": [
    {
     "name": "stderr",
     "output_type": "stream",
     "text": [
      "100%|██████████| 19923/19923 [00:17<00:00, 1119.97it/s]\n",
      "100%|██████████| 4981/4981 [00:03<00:00, 1295.96it/s]\n"
     ]
    }
   ],
   "source": [
    "# create sentence vectors using the above function for training and validation set\n",
    "xtrain_google = [sent2vec(x, embeddings_index_google) for x in tqdm(train)]\n",
    "xvalid_google = [sent2vec(x, embeddings_index_google) for x in tqdm(valid)]\n",
    "\n",
    "xtrain_google = np.array(xtrain_google)\n",
    "xvalid_google = np.array(xvalid_google)"
   ]
  },
  {
   "cell_type": "code",
   "execution_count": 97,
   "metadata": {},
   "outputs": [
    {
     "name": "stderr",
     "output_type": "stream",
     "text": [
      "100%|██████████| 25000/25000 [00:19<00:00, 1296.36it/s]\n"
     ]
    }
   ],
   "source": [
    "xtest_google = [sent2vec(x, embeddings_index_google) for x in tqdm(data_test['cleaned_review'])]\n",
    "xtest_google = np.array(xtest_google)"
   ]
  },
  {
   "cell_type": "code",
   "execution_count": 98,
   "metadata": {
    "collapsed": true
   },
   "outputs": [],
   "source": [
    "log_reg = LogisticRegression(C= 1, class_weight='balanced', solver='sag', n_jobs=-1, random_state=42) \n",
    "log_reg.fit(xtrain_google, train_l)\n",
    "y_pred_log = log_reg.predict(xvalid_google)\n",
    "report_log = classification_report(valid_l, y_pred_log)"
   ]
  },
  {
   "cell_type": "code",
   "execution_count": 99,
   "metadata": {},
   "outputs": [
    {
     "name": "stdout",
     "output_type": "stream",
     "text": [
      "             precision    recall  f1-score   support\n",
      "\n",
      "          0       0.64      0.62      0.63      2443\n",
      "          1       0.65      0.67      0.66      2538\n",
      "\n",
      "avg / total       0.64      0.64      0.64      4981\n",
      "\n"
     ]
    }
   ],
   "source": [
    "print report_log"
   ]
  },
  {
   "cell_type": "code",
   "execution_count": 100,
   "metadata": {
    "collapsed": true
   },
   "outputs": [],
   "source": [
    "sub_sg = SGDClassifier(alpha= 1e-05, max_iter= 10000, loss='log', penalty= 'l2', n_jobs=-1, random_state=42)\n",
    "sub_sg.fit(xtrain_google, train_l)\n",
    "y_pred = sub_sg.predict(xvalid_google)\n",
    "report = classification_report(valid_l, y_pred)"
   ]
  },
  {
   "cell_type": "code",
   "execution_count": 101,
   "metadata": {},
   "outputs": [
    {
     "name": "stdout",
     "output_type": "stream",
     "text": [
      "             precision    recall  f1-score   support\n",
      "\n",
      "          0       0.67      0.64      0.65      2443\n",
      "          1       0.67      0.70      0.68      2538\n",
      "\n",
      "avg / total       0.67      0.67      0.67      4981\n",
      "\n"
     ]
    }
   ],
   "source": [
    "print(report)"
   ]
  },
  {
   "cell_type": "code",
   "execution_count": 102,
   "metadata": {
    "collapsed": true
   },
   "outputs": [],
   "source": [
    "predictions_google = sub_sg.predict(xtest_google)"
   ]
  },
  {
   "cell_type": "code",
   "execution_count": 103,
   "metadata": {
    "collapsed": true
   },
   "outputs": [],
   "source": [
    "subm = pd.read_csv('data/sampleSubmission.csv')    \n",
    "submid = pd.DataFrame({'id': subm[\"id\"], 'sentiment': predictions_google})\n",
    "submid.to_csv('submissions/sample_submission_Logsgd_google.csv', index=False)"
   ]
  },
  {
   "cell_type": "markdown",
   "metadata": {},
   "source": [
    "    ### I got AUC curve of 0.50000 "
   ]
  },
  {
   "cell_type": "markdown",
   "metadata": {},
   "source": [
    "## Note\n",
    "\n",
    "definelty we can do better by doing some hyperparameters Grid Search Optimization\n",
    "\n",
    "\n"
   ]
  },
  {
   "cell_type": "markdown",
   "metadata": {},
   "source": [
    "# I will try to add some engineered features and see how things will turn out\n"
   ]
  },
  {
   "cell_type": "code",
   "execution_count": 194,
   "metadata": {
    "collapsed": true
   },
   "outputs": [],
   "source": [
    "train_df = pd.DataFrame(train)\n",
    "valid_df = pd.DataFrame(valid)"
   ]
  },
  {
   "cell_type": "code",
   "execution_count": 195,
   "metadata": {},
   "outputs": [],
   "source": [
    "data = [train_df, valid_df, data_test]\n",
    "for element in data:\n",
    "    element['total_length'] = element['cleaned_review'].apply(len)\n",
    "    element['capitals'] = element['cleaned_review'].apply(lambda comment: sum(1 for c in comment if c.isupper()))\n",
    "    element['caps_vs_length'] = element.apply(lambda row: float(row['capitals'])/float(row['total_length']), axis=1)\n",
    "    element['num_exclamation_marks'] = element['cleaned_review'].apply(lambda comment: comment.count('!'))\n",
    "    element['num_question_marks'] = element['cleaned_review'].apply(lambda comment: comment.count('?'))\n",
    "    element['num_punctuation'] = element['cleaned_review'].apply(lambda comment: sum(comment.count(w) for w in '.,;:'))\n",
    "    element['num_symbols'] = element['cleaned_review'].apply(lambda comment: sum(comment.count(w) for w in '*&$%'))\n",
    "    element['num_words'] = element['cleaned_review'].apply(lambda comment: len(comment.split()))\n",
    "    element['num_unique_words'] = element['cleaned_review'].apply(lambda comment: len(set(w for w in comment.split())))\n",
    "    element['words_vs_unique'] = element['num_unique_words'] / element['num_words']\n",
    "    element['num_smilies'] = element['cleaned_review'].apply(lambda comment: sum(comment.count(w) for w in (':-)', ':)', ';-)', ';)')))\n",
    "    \n",
    "col = ['total_length', 'capitals', 'caps_vs_length',\n",
    "       'num_exclamation_marks', 'num_question_marks', 'num_punctuation',\n",
    "       'num_symbols', 'num_words', 'num_unique_words', 'words_vs_unique',\n",
    "       'num_smilies']\n"
   ]
  },
  {
   "cell_type": "code",
   "execution_count": 196,
   "metadata": {},
   "outputs": [],
   "source": [
    "train = scipy.sparse.csr_matrix(train_df[col].values)\n",
    "valid = scipy.sparse.csr_matrix(valid_df[col].values)\n",
    "test = scipy.sparse.csr_matrix(data_test[col].values)\n",
    "\n",
    "reviews_train = scipy.sparse.hstack([train,xtrain_glove])\n",
    "reviews_valid = scipy.sparse.hstack([valid, xvalid_glove])\n",
    "reviews_test = scipy.sparse.hstack([test, xtest_glove])"
   ]
  },
  {
   "cell_type": "code",
   "execution_count": 197,
   "metadata": {},
   "outputs": [
    {
     "name": "stdout",
     "output_type": "stream",
     "text": [
      "             precision    recall  f1-score   support\n",
      "\n",
      "          0       0.54      0.72      0.62      2493\n",
      "          1       0.58      0.39      0.46      2488\n",
      "\n",
      "avg / total       0.56      0.55      0.54      4981\n",
      "\n"
     ]
    }
   ],
   "source": [
    "log_reg = LogisticRegression(C=0.1, class_weight='balanced', solver='sag', n_jobs=-1, random_state=42) \n",
    "log_reg.fit(reviews_train, train_l)\n",
    "y_pred_log = log_reg.predict(reviews_valid)\n",
    "report_log = classification_report(valid_l, y_pred_log)\n",
    "\n",
    "print(report_log)"
   ]
  },
  {
   "cell_type": "code",
   "execution_count": 198,
   "metadata": {},
   "outputs": [
    {
     "name": "stdout",
     "output_type": "stream",
     "text": [
      "             precision    recall  f1-score   support\n",
      "\n",
      "          0       0.59      0.36      0.45      2493\n",
      "          1       0.54      0.75      0.63      2488\n",
      "\n",
      "avg / total       0.57      0.56      0.54      4981\n",
      "\n"
     ]
    }
   ],
   "source": [
    "sub_sg = SGDClassifier(alpha= 1e-05, max_iter= 10000, loss='log', penalty= 'l2', n_jobs=-1, random_state=42)\n",
    "sub_sg.fit(reviews_train, train_l)\n",
    "y_pred = sub_sg.predict(reviews_valid)\n",
    "report = classification_report(valid_l, y_pred)\n",
    "\n",
    "print(report)"
   ]
  },
  {
   "cell_type": "code",
   "execution_count": 217,
   "metadata": {
    "collapsed": true
   },
   "outputs": [],
   "source": [
    "def runXGB(train_X, train_y, test_X, test_y=None, feature_names=None, seed_val=2017, num_rounds=500):\n",
    "    param = {}\n",
    "    param['objective'] = 'binary:logistic'\n",
    "    param['eta'] = 0.1\n",
    "    param['max_depth'] = 6\n",
    "    param['silent'] = 1\n",
    "    param['eval_metric'] = 'auc'\n",
    "    param['min_child_weight'] = 1\n",
    "    param['subsample'] = 0.7\n",
    "    param['colsample_bytree'] = 0.7\n",
    "    param['seed'] = seed_val\n",
    "    num_rounds = num_rounds\n",
    "\n",
    "    plst = list(param.items())\n",
    "    xgtrain = xgb.DMatrix(train_X, label=train_y)\n",
    "\n",
    "    if test_y is not None:\n",
    "        xgtest = xgb.DMatrix(test_X, label=test_y)\n",
    "        watchlist = [ (xgtrain,'train'), (xgtest, 'test') ]\n",
    "        model = xgb.train(plst, xgtrain, num_rounds, watchlist, early_stopping_rounds=20)\n",
    "    else:\n",
    "        xgtest = xgb.DMatrix(test_X)\n",
    "        model = xgb.train(plst, xgtrain, num_rounds)\n",
    "\n",
    "    return model "
   ]
  },
  {
   "cell_type": "code",
   "execution_count": 218,
   "metadata": {
    "scrolled": true
   },
   "outputs": [
    {
     "name": "stdout",
     "output_type": "stream",
     "text": [
      "[0]\ttrain-auc:0.669302\ttest-auc:0.619819\n",
      "Multiple eval metrics have been passed: 'test-auc' will be used for early stopping.\n",
      "\n",
      "Will train until test-auc hasn't improved in 20 rounds.\n",
      "[1]\ttrain-auc:0.70475\ttest-auc:0.63373\n",
      "[2]\ttrain-auc:0.722843\ttest-auc:0.646428\n",
      "[3]\ttrain-auc:0.738798\ttest-auc:0.653257\n",
      "[4]\ttrain-auc:0.749734\ttest-auc:0.659659\n",
      "[5]\ttrain-auc:0.758851\ttest-auc:0.665239\n",
      "[6]\ttrain-auc:0.765508\ttest-auc:0.668008\n",
      "[7]\ttrain-auc:0.772548\ttest-auc:0.669871\n",
      "[8]\ttrain-auc:0.776613\ttest-auc:0.672737\n",
      "[9]\ttrain-auc:0.781289\ttest-auc:0.673908\n",
      "[10]\ttrain-auc:0.786729\ttest-auc:0.675794\n",
      "[11]\ttrain-auc:0.791046\ttest-auc:0.67751\n",
      "[12]\ttrain-auc:0.795207\ttest-auc:0.676915\n",
      "[13]\ttrain-auc:0.800332\ttest-auc:0.678737\n",
      "[14]\ttrain-auc:0.803187\ttest-auc:0.682103\n",
      "[15]\ttrain-auc:0.807179\ttest-auc:0.685199\n",
      "[16]\ttrain-auc:0.811374\ttest-auc:0.686277\n",
      "[17]\ttrain-auc:0.815709\ttest-auc:0.686354\n",
      "[18]\ttrain-auc:0.819212\ttest-auc:0.68676\n",
      "[19]\ttrain-auc:0.822477\ttest-auc:0.686165\n",
      "[20]\ttrain-auc:0.826239\ttest-auc:0.688541\n",
      "[21]\ttrain-auc:0.83005\ttest-auc:0.688799\n",
      "[22]\ttrain-auc:0.833018\ttest-auc:0.689966\n",
      "[23]\ttrain-auc:0.836521\ttest-auc:0.690156\n",
      "[24]\ttrain-auc:0.839591\ttest-auc:0.690827\n",
      "[25]\ttrain-auc:0.842948\ttest-auc:0.69199\n",
      "[26]\ttrain-auc:0.845804\ttest-auc:0.692464\n",
      "[27]\ttrain-auc:0.848858\ttest-auc:0.692044\n",
      "[28]\ttrain-auc:0.851569\ttest-auc:0.693089\n",
      "[29]\ttrain-auc:0.854164\ttest-auc:0.693208\n",
      "[30]\ttrain-auc:0.856458\ttest-auc:0.694658\n",
      "[31]\ttrain-auc:0.858774\ttest-auc:0.694717\n",
      "[32]\ttrain-auc:0.860959\ttest-auc:0.695235\n",
      "[33]\ttrain-auc:0.863105\ttest-auc:0.695459\n",
      "[34]\ttrain-auc:0.86663\ttest-auc:0.695566\n",
      "[35]\ttrain-auc:0.869809\ttest-auc:0.696232\n",
      "[36]\ttrain-auc:0.872032\ttest-auc:0.696885\n",
      "[37]\ttrain-auc:0.874191\ttest-auc:0.697031\n",
      "[38]\ttrain-auc:0.875522\ttest-auc:0.697487\n",
      "[39]\ttrain-auc:0.877619\ttest-auc:0.698366\n",
      "[40]\ttrain-auc:0.880305\ttest-auc:0.698992\n",
      "[41]\ttrain-auc:0.882514\ttest-auc:0.69949\n",
      "[42]\ttrain-auc:0.884663\ttest-auc:0.700512\n",
      "[43]\ttrain-auc:0.887215\ttest-auc:0.700697\n",
      "[44]\ttrain-auc:0.889466\ttest-auc:0.70093\n",
      "[45]\ttrain-auc:0.891881\ttest-auc:0.701277\n",
      "[46]\ttrain-auc:0.894125\ttest-auc:0.70105\n",
      "[47]\ttrain-auc:0.896431\ttest-auc:0.701539\n",
      "[48]\ttrain-auc:0.898043\ttest-auc:0.701566\n",
      "[49]\ttrain-auc:0.899921\ttest-auc:0.701123\n",
      "[50]\ttrain-auc:0.901406\ttest-auc:0.701202\n",
      "[51]\ttrain-auc:0.902626\ttest-auc:0.700323\n",
      "[52]\ttrain-auc:0.904806\ttest-auc:0.700007\n",
      "[53]\ttrain-auc:0.906379\ttest-auc:0.700683\n",
      "[54]\ttrain-auc:0.907837\ttest-auc:0.700546\n",
      "[55]\ttrain-auc:0.908967\ttest-auc:0.700069\n",
      "[56]\ttrain-auc:0.910604\ttest-auc:0.700353\n",
      "[57]\ttrain-auc:0.912013\ttest-auc:0.700486\n",
      "[58]\ttrain-auc:0.913669\ttest-auc:0.699995\n",
      "[59]\ttrain-auc:0.915352\ttest-auc:0.700014\n",
      "[60]\ttrain-auc:0.916618\ttest-auc:0.700049\n",
      "[61]\ttrain-auc:0.91777\ttest-auc:0.700375\n",
      "[62]\ttrain-auc:0.919008\ttest-auc:0.700216\n",
      "[63]\ttrain-auc:0.920768\ttest-auc:0.700445\n",
      "[64]\ttrain-auc:0.922008\ttest-auc:0.700571\n",
      "[65]\ttrain-auc:0.92338\ttest-auc:0.701144\n",
      "[66]\ttrain-auc:0.924785\ttest-auc:0.701232\n",
      "[67]\ttrain-auc:0.925899\ttest-auc:0.70159\n",
      "[68]\ttrain-auc:0.92661\ttest-auc:0.701554\n",
      "[69]\ttrain-auc:0.927766\ttest-auc:0.701917\n",
      "[70]\ttrain-auc:0.928998\ttest-auc:0.701875\n",
      "[71]\ttrain-auc:0.930646\ttest-auc:0.70254\n",
      "[72]\ttrain-auc:0.931767\ttest-auc:0.702932\n",
      "[73]\ttrain-auc:0.933406\ttest-auc:0.703381\n",
      "[74]\ttrain-auc:0.934651\ttest-auc:0.703882\n",
      "[75]\ttrain-auc:0.935974\ttest-auc:0.704468\n",
      "[76]\ttrain-auc:0.937491\ttest-auc:0.704691\n",
      "[77]\ttrain-auc:0.938786\ttest-auc:0.704124\n",
      "[78]\ttrain-auc:0.94002\ttest-auc:0.704157\n",
      "[79]\ttrain-auc:0.940826\ttest-auc:0.70455\n",
      "[80]\ttrain-auc:0.941655\ttest-auc:0.704562\n",
      "[81]\ttrain-auc:0.942771\ttest-auc:0.70442\n",
      "[82]\ttrain-auc:0.944049\ttest-auc:0.704369\n",
      "[83]\ttrain-auc:0.944904\ttest-auc:0.70479\n",
      "[84]\ttrain-auc:0.946089\ttest-auc:0.704989\n",
      "[85]\ttrain-auc:0.947248\ttest-auc:0.705825\n",
      "[86]\ttrain-auc:0.948125\ttest-auc:0.705544\n",
      "[87]\ttrain-auc:0.9489\ttest-auc:0.70575\n",
      "[88]\ttrain-auc:0.949845\ttest-auc:0.705799\n",
      "[89]\ttrain-auc:0.95086\ttest-auc:0.705951\n",
      "[90]\ttrain-auc:0.952046\ttest-auc:0.706808\n",
      "[91]\ttrain-auc:0.952737\ttest-auc:0.707176\n",
      "[92]\ttrain-auc:0.953622\ttest-auc:0.707605\n",
      "[93]\ttrain-auc:0.954416\ttest-auc:0.707687\n",
      "[94]\ttrain-auc:0.955173\ttest-auc:0.707782\n",
      "[95]\ttrain-auc:0.955895\ttest-auc:0.70798\n",
      "[96]\ttrain-auc:0.95699\ttest-auc:0.707757\n",
      "[97]\ttrain-auc:0.957607\ttest-auc:0.707578\n",
      "[98]\ttrain-auc:0.958422\ttest-auc:0.707637\n",
      "[99]\ttrain-auc:0.958886\ttest-auc:0.708073\n",
      "[100]\ttrain-auc:0.959698\ttest-auc:0.708013\n",
      "[101]\ttrain-auc:0.96052\ttest-auc:0.707839\n",
      "[102]\ttrain-auc:0.961432\ttest-auc:0.707583\n",
      "[103]\ttrain-auc:0.962104\ttest-auc:0.707586\n",
      "[104]\ttrain-auc:0.962621\ttest-auc:0.707541\n",
      "[105]\ttrain-auc:0.963114\ttest-auc:0.70806\n",
      "[106]\ttrain-auc:0.963812\ttest-auc:0.707639\n",
      "[107]\ttrain-auc:0.964582\ttest-auc:0.707246\n",
      "[108]\ttrain-auc:0.965465\ttest-auc:0.707083\n",
      "[109]\ttrain-auc:0.966411\ttest-auc:0.706917\n",
      "[110]\ttrain-auc:0.966778\ttest-auc:0.707032\n",
      "[111]\ttrain-auc:0.96699\ttest-auc:0.707213\n",
      "[112]\ttrain-auc:0.967781\ttest-auc:0.707367\n",
      "[113]\ttrain-auc:0.968486\ttest-auc:0.706897\n",
      "[114]\ttrain-auc:0.969258\ttest-auc:0.706519\n",
      "[115]\ttrain-auc:0.969749\ttest-auc:0.706581\n",
      "[116]\ttrain-auc:0.970138\ttest-auc:0.706254\n",
      "[117]\ttrain-auc:0.970469\ttest-auc:0.706356\n",
      "[118]\ttrain-auc:0.971219\ttest-auc:0.706719\n",
      "[119]\ttrain-auc:0.971707\ttest-auc:0.706867\n",
      "Stopping. Best iteration:\n",
      "[99]\ttrain-auc:0.958886\ttest-auc:0.708073\n",
      "\n"
     ]
    }
   ],
   "source": [
    "model = runXGB(reviews_train, train_l, reviews_valid, valid_l)"
   ]
  },
  {
   "cell_type": "code",
   "execution_count": 219,
   "metadata": {},
   "outputs": [
    {
     "data": {
      "text/plain": [
       "array([0.7374206 , 0.19246723, 0.32274005, 0.33006647, 0.48401198,\n",
       "       0.42097735, 0.21041808, 0.6455684 , 0.81396955, 0.90532845],\n",
       "      dtype=float32)"
      ]
     },
     "execution_count": 219,
     "metadata": {},
     "output_type": "execute_result"
    }
   ],
   "source": [
    "preds = model.predict(xgb.DMatrix(reviews_test), ntree_limit = model.best_ntree_limit)\n",
    "preds[:10]"
   ]
  },
  {
   "cell_type": "code",
   "execution_count": 220,
   "metadata": {
    "collapsed": true
   },
   "outputs": [],
   "source": [
    "subm = pd.read_csv('data/sampleSubmission.csv')    \n",
    "submid = pd.DataFrame({'id': subm[\"id\"], 'sentiment': preds})\n",
    "submid.to_csv('submissions/sample_submission_xgboost.csv', index=False)"
   ]
  },
  {
   "cell_type": "markdown",
   "metadata": {},
   "source": [
    "     ### I got AUC of 0.70822"
   ]
  }
 ],
 "metadata": {
  "kernelspec": {
   "display_name": "Python 2",
   "language": "python",
   "name": "python2"
  },
  "language_info": {
   "codemirror_mode": {
    "name": "ipython",
    "version": 2
   },
   "file_extension": ".py",
   "mimetype": "text/x-python",
   "name": "python",
   "nbconvert_exporter": "python",
   "pygments_lexer": "ipython2",
   "version": "2.7.13"
  }
 },
 "nbformat": 4,
 "nbformat_minor": 2
}
